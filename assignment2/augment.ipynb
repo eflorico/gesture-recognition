{
 "cells": [
  {
   "cell_type": "markdown",
   "metadata": {},
   "source": [
    "This file augments the training data and saves the resulting samples in the files aug_train.pkl and aug_train_y.pkl as numpy memmap. It requires a patched version of Keras to augment images with 7 channels."
   ]
  },
  {
   "cell_type": "code",
   "execution_count": 1,
   "metadata": {},
   "outputs": [
    {
     "name": "stderr",
     "output_type": "stream",
     "text": [
      "Using TensorFlow backend.\n"
     ]
    }
   ],
   "source": [
    "import pickle\n",
    "import numpy as np\n",
    "from sklearn.model_selection import train_test_split\n",
    "from keras.preprocessing.image import ImageDataGenerator\n",
    "from tqdm import tqdm\n",
    "import matplotlib.pyplot as plt"
   ]
  },
  {
   "cell_type": "code",
   "execution_count": 2,
   "metadata": {},
   "outputs": [
    {
     "name": "stdout",
     "output_type": "stream",
     "text": [
      "depth (77421, 120, 90)\n",
      "gestureLabels (77421,)\n",
      "subjectLabels (77421,)\n",
      "segmentation (77421, 120, 90, 3)\n",
      "rgb (77421, 120, 90, 3)\n"
     ]
    }
   ],
   "source": [
    "# Load data\n",
    "data = pickle.load(open('a2_dataTrain.pkl', 'rb'))\n",
    "\n",
    "for k in data.keys():\n",
    "    print(k, data[k].shape)"
   ]
  },
  {
   "cell_type": "code",
   "execution_count": 3,
   "metadata": {
    "collapsed": true
   },
   "outputs": [],
   "source": [
    "# Combine data into numpy matrix\n",
    "X = np.concatenate((data['rgb'], data['segmentation'], data['depth'][:, :, :, np.newaxis]), axis=3)\n",
    "Y = data['gestureLabels']\n",
    "del data"
   ]
  },
  {
   "cell_type": "code",
   "execution_count": 4,
   "metadata": {},
   "outputs": [
    {
     "name": "stdout",
     "output_type": "stream",
     "text": [
      "69678 train samples\n",
      "7743 test samples\n"
     ]
    }
   ],
   "source": [
    "# Train/test split, random_state for reproducability\n",
    "X_train, X_test, Y_train, Y_test = train_test_split(X, Y, test_size=0.1, random_state=1337, stratify=Y)\n",
    "del X, Y\n",
    "\n",
    "print(X_train.shape[0], 'train samples')\n",
    "print(X_test.shape[0], 'test samples')"
   ]
  },
  {
   "cell_type": "code",
   "execution_count": 5,
   "metadata": {},
   "outputs": [],
   "source": [
    "datagen = ImageDataGenerator(\n",
    "    rotation_range=3,\n",
    "    fill_mode='nearest',\n",
    "    width_shift_range=0.1,\n",
    "    height_shift_range=0.1,\n",
    "    shear_range=.1,\n",
    "    channel_shift_range=20,\n",
    "    horizontal_flip=True,\n",
    ")\n",
    "\n",
    "# Number of samples to generate\n",
    "num_aug = 300000"
   ]
  },
  {
   "cell_type": "code",
   "execution_count": 6,
   "metadata": {},
   "outputs": [],
   "source": [
    "# Use numpy memmap to save samples\n",
    "X_aug = np.memmap('aug_train.pkl', dtype='uint8', mode='w+', shape=(num_aug,)+X_train.shape[1:])\n",
    "Y_aug = np.memmap('aug_train_y.pkl', dtype='uint8', mode='w+', shape=(num_aug,))"
   ]
  },
  {
   "cell_type": "code",
   "execution_count": 7,
   "metadata": {},
   "outputs": [
    {
     "name": "stderr",
     "output_type": "stream",
     "text": [
      "1024it [00:11, 92.99it/s]              "
     ]
    },
    {
     "name": "stdout",
     "output_type": "stream",
     "text": [
      "Flushed.\n"
     ]
    },
    {
     "name": "stderr",
     "output_type": "stream",
     "text": [
      "\n"
     ]
    }
   ],
   "source": [
    "# Generate samples\n",
    "i = 0\n",
    "with tqdm(total=num_aug) as pbar:\n",
    "    while i < num_aug:\n",
    "        for X_batch, Y_batch in datagen.flow(X_train, Y_train, batch_size=1024, shuffle=True):\n",
    "            batch_len = X_batch.shape[0]\n",
    "            X_aug[i:min(num_aug, i+batch_len)] = X_batch[:min(batch_len, num_aug-i)].astype(np.uint8)\n",
    "            Y_aug[i:min(num_aug, i+batch_len)] = Y_batch[:min(batch_len, num_aug-i)]\n",
    "            i += batch_len\n",
    "            pbar.update(batch_len)\n",
    "\n",
    "            if i >= num_aug:\n",
    "                break\n",
    "        \n",
    "        X_aug.flush()\n",
    "        Y_aug.flush()\n",
    "        print('Flushed.')"
   ]
  },
  {
   "cell_type": "code",
   "execution_count": null,
   "metadata": {
    "collapsed": true
   },
   "outputs": [],
   "source": [
    "# Inspect generated data\n",
    "for i in range(0, 5):\n",
    "    plt.imshow(X_aug[i, ..., 2::-1].astype(np.uint8))\n",
    "    plt.show()"
   ]
  }
 ],
 "metadata": {
  "kernelspec": {
   "display_name": "Python 3",
   "language": "python",
   "name": "python3"
  },
  "language_info": {
   "codemirror_mode": {
    "name": "ipython",
    "version": 3
   },
   "file_extension": ".py",
   "mimetype": "text/x-python",
   "name": "python",
   "nbconvert_exporter": "python",
   "pygments_lexer": "ipython3",
   "version": "3.6.1"
  }
 },
 "nbformat": 4,
 "nbformat_minor": 2
}
